{
  "nbformat": 4,
  "nbformat_minor": 0,
  "metadata": {
    "colab": {
      "name": "Landslide Fatality Prediction",
      "provenance": [],
      "collapsed_sections": [
        "A3H4TFDz0p37",
        "curIR_dc051W"
      ],
      "authorship_tag": "ABX9TyPu3HhFhDA2J3Qty1cfaK+H",
      "include_colab_link": true
    },
    "kernelspec": {
      "display_name": "Python 3",
      "name": "python3"
    },
    "language_info": {
      "name": "python"
    }
  },
  "cells": [
    {
      "cell_type": "markdown",
      "metadata": {
        "id": "view-in-github",
        "colab_type": "text"
      },
      "source": [
        "<a href=\"https://colab.research.google.com/github/shirleynguyena/portfolio/blob/main/Landslide_Fatality_Prediction.ipynb\" target=\"_parent\"><img src=\"https://colab.research.google.com/assets/colab-badge.svg\" alt=\"Open In Colab\"/></a>"
      ]
    },
    {
      "cell_type": "markdown",
      "metadata": {
        "id": "ATv52BhtFVjG"
      },
      "source": [
        "# Landslide Fatality Prediction\n",
        "This is a Random Forest model to predict the number of fatalities from landslides using data collected by the NASA Goddard Space Flight Center since 2007. The data is from the [Global Landslide Catalog](https://catalog.data.gov/dataset/global-landslide-catalog).\n",
        "\n",
        "Created by Shirley Nguyen, December 2021."
      ]
    },
    {
      "cell_type": "markdown",
      "metadata": {
        "id": "FEacpwGOFGQ8"
      },
      "source": [
        "## 1. Reading the raw data"
      ]
    },
    {
      "cell_type": "code",
      "metadata": {
        "id": "L40S094Ps45a"
      },
      "source": [
        "# pip install category_encoders"
      ],
      "execution_count": 105,
      "outputs": []
    },
    {
      "cell_type": "code",
      "metadata": {
        "id": "o11Lw54HDXZs"
      },
      "source": [
        "import pandas as pd\n",
        "import numpy as np\n",
        "import matplotlib.pyplot as plt\n",
        "from category_encoders import TargetEncoder\n",
        "from sklearn.preprocessing import MinMaxScaler\n",
        "from sklearn.model_selection import train_test_split, GridSearchCV\n",
        "from sklearn.ensemble import RandomForestRegressor\n",
        "from sklearn.metrics import mean_squared_error, r2_score, mean_absolute_error\n",
        "from google.colab import drive\n",
        "import os"
      ],
      "execution_count": 106,
      "outputs": []
    },
    {
      "cell_type": "code",
      "metadata": {
        "colab": {
          "base_uri": "https://localhost:8080/",
          "height": 608
        },
        "id": "l-nuGNq-9i-W",
        "outputId": "f1d2f83e-21a8-49e9-dad9-27c86e643eaf"
      },
      "source": [
        "drive.mount('/content/drive')\n",
        "data = pd.read_csv('/content/drive/My Drive/AOS111/glc_data.csv')\n",
        "\n",
        "data.head()"
      ],
      "execution_count": 107,
      "outputs": [
        {
          "output_type": "stream",
          "name": "stdout",
          "text": [
            "Drive already mounted at /content/drive; to attempt to forcibly remount, call drive.mount(\"/content/drive\", force_remount=True).\n"
          ]
        },
        {
          "output_type": "execute_result",
          "data": {
            "text/html": [
              "<div>\n",
              "<style scoped>\n",
              "    .dataframe tbody tr th:only-of-type {\n",
              "        vertical-align: middle;\n",
              "    }\n",
              "\n",
              "    .dataframe tbody tr th {\n",
              "        vertical-align: top;\n",
              "    }\n",
              "\n",
              "    .dataframe thead th {\n",
              "        text-align: right;\n",
              "    }\n",
              "</style>\n",
              "<table border=\"1\" class=\"dataframe\">\n",
              "  <thead>\n",
              "    <tr style=\"text-align: right;\">\n",
              "      <th></th>\n",
              "      <th>the_geom</th>\n",
              "      <th>OBJECTID</th>\n",
              "      <th>id</th>\n",
              "      <th>date_</th>\n",
              "      <th>time_</th>\n",
              "      <th>country</th>\n",
              "      <th>nearest_pl</th>\n",
              "      <th>hazard_typ</th>\n",
              "      <th>landslide_</th>\n",
              "      <th>trigger</th>\n",
              "      <th>storm_name</th>\n",
              "      <th>fatalities</th>\n",
              "      <th>injuries</th>\n",
              "      <th>source_nam</th>\n",
              "      <th>source_lin</th>\n",
              "      <th>location_a</th>\n",
              "      <th>landslide1</th>\n",
              "      <th>photos_lin</th>\n",
              "      <th>cat_src</th>\n",
              "      <th>cat_id</th>\n",
              "      <th>countrynam</th>\n",
              "      <th>near</th>\n",
              "      <th>distance</th>\n",
              "      <th>adminname1</th>\n",
              "      <th>adminname2</th>\n",
              "      <th>population</th>\n",
              "      <th>countrycod</th>\n",
              "      <th>continentc</th>\n",
              "      <th>key_</th>\n",
              "      <th>version</th>\n",
              "      <th>user_id</th>\n",
              "      <th>tstamp</th>\n",
              "      <th>changeset_</th>\n",
              "      <th>latitude</th>\n",
              "      <th>longitude</th>\n",
              "    </tr>\n",
              "  </thead>\n",
              "  <tbody>\n",
              "    <tr>\n",
              "      <th>0</th>\n",
              "      <td>POINT (-73.40200000000006 41.55850000000008)</td>\n",
              "      <td>1</td>\n",
              "      <td>3177</td>\n",
              "      <td>03/07/2011 08:00:00 AM +0000</td>\n",
              "      <td>12/30/1899 08:00:00 AM +0000</td>\n",
              "      <td>United States</td>\n",
              "      <td>Grove Street from Anderson Avenue to Hine Hill...</td>\n",
              "      <td>landslide</td>\n",
              "      <td>Mudslide</td>\n",
              "      <td>Downpour</td>\n",
              "      <td>NaN</td>\n",
              "      <td>0</td>\n",
              "      <td>0</td>\n",
              "      <td>NaN</td>\n",
              "      <td>http://www.newstimes.com/local/article/New-Mil...</td>\n",
              "      <td>Known_within_1_km</td>\n",
              "      <td>Medium</td>\n",
              "      <td>NaN</td>\n",
              "      <td>glc</td>\n",
              "      <td>3177</td>\n",
              "      <td>United States</td>\n",
              "      <td>New Milford</td>\n",
              "      <td>2.12825</td>\n",
              "      <td>Connecticut</td>\n",
              "      <td>Litchfield County</td>\n",
              "      <td>6523</td>\n",
              "      <td>NaN</td>\n",
              "      <td>NaN</td>\n",
              "      <td>US</td>\n",
              "      <td>1</td>\n",
              "      <td>1</td>\n",
              "      <td>Tue Apr 01 2014 00:00:00 GMT+0000 (UTC)</td>\n",
              "      <td>1</td>\n",
              "      <td>41.5585</td>\n",
              "      <td>-73.4020</td>\n",
              "    </tr>\n",
              "    <tr>\n",
              "      <th>1</th>\n",
              "      <td>POINT (113.91710000000012 0.1115000000000351)</td>\n",
              "      <td>2</td>\n",
              "      <td>490</td>\n",
              "      <td>04/01/2008 07:00:00 AM +0000</td>\n",
              "      <td>NaN</td>\n",
              "      <td>Indonesia</td>\n",
              "      <td>Borneo, Muara</td>\n",
              "      <td>landslide</td>\n",
              "      <td>Landslide</td>\n",
              "      <td>Rain</td>\n",
              "      <td>NaN</td>\n",
              "      <td>0</td>\n",
              "      <td>0</td>\n",
              "      <td>NaN</td>\n",
              "      <td>http://www.brunei-online.com/bb/tue/apr1h10.htm</td>\n",
              "      <td>Unknown</td>\n",
              "      <td>Medium</td>\n",
              "      <td>NaN</td>\n",
              "      <td>glc</td>\n",
              "      <td>490</td>\n",
              "      <td>Indonesia</td>\n",
              "      <td>Longnawang</td>\n",
              "      <td>215.44888</td>\n",
              "      <td>North Kalimantan</td>\n",
              "      <td>NaN</td>\n",
              "      <td>0</td>\n",
              "      <td>NaN</td>\n",
              "      <td>AS</td>\n",
              "      <td>ID</td>\n",
              "      <td>1</td>\n",
              "      <td>1</td>\n",
              "      <td>Tue Apr 01 2014 00:00:00 GMT+0000 (UTC)</td>\n",
              "      <td>1</td>\n",
              "      <td>0.1115</td>\n",
              "      <td>113.9171</td>\n",
              "    </tr>\n",
              "    <tr>\n",
              "      <th>2</th>\n",
              "      <td>POINT (-127.69800000000009 52.35450000000008)</td>\n",
              "      <td>3</td>\n",
              "      <td>6760</td>\n",
              "      <td>01/30/2015 08:00:00 AM +0000</td>\n",
              "      <td>12/30/1899 08:00:00 AM +0000</td>\n",
              "      <td>NaN</td>\n",
              "      <td>Ocean Falls, B.C.</td>\n",
              "      <td>landslide</td>\n",
              "      <td>Mudslide</td>\n",
              "      <td>Rain</td>\n",
              "      <td>NaN</td>\n",
              "      <td>0</td>\n",
              "      <td>0</td>\n",
              "      <td>Global News</td>\n",
              "      <td>http://globalnews.ca/news/1818913/mudslide-spl...</td>\n",
              "      <td>Known_within_1km</td>\n",
              "      <td>Medium</td>\n",
              "      <td>http://vipmedia.globalnews.ca/2015/02/10954548...</td>\n",
              "      <td>glc</td>\n",
              "      <td>6760</td>\n",
              "      <td>Canada</td>\n",
              "      <td>Kitimat</td>\n",
              "      <td>199.44893</td>\n",
              "      <td>British Columbia</td>\n",
              "      <td>obe</td>\n",
              "      <td>8987</td>\n",
              "      <td>NaN</td>\n",
              "      <td>NaN</td>\n",
              "      <td>CA</td>\n",
              "      <td>2</td>\n",
              "      <td>7</td>\n",
              "      <td>Tue Feb 17 2015 15:42:41 GMT+0000 (UTC)</td>\n",
              "      <td>3910846556</td>\n",
              "      <td>52.3545</td>\n",
              "      <td>-127.6980</td>\n",
              "    </tr>\n",
              "    <tr>\n",
              "      <th>3</th>\n",
              "      <td>POINT (-127.50620000000009 50.70530000000013)</td>\n",
              "      <td>4</td>\n",
              "      <td>2494</td>\n",
              "      <td>09/24/2010 07:00:00 AM +0000</td>\n",
              "      <td>NaN</td>\n",
              "      <td>Canada</td>\n",
              "      <td>road to Holberg, 3 km from hwy 19, Vancouver I...</td>\n",
              "      <td>landslide</td>\n",
              "      <td>Complex</td>\n",
              "      <td>Downpour</td>\n",
              "      <td>NaN</td>\n",
              "      <td>0</td>\n",
              "      <td>0</td>\n",
              "      <td>NaN</td>\n",
              "      <td>http://www.theprovince.com/news/State+emergenc...</td>\n",
              "      <td>Known_within_1_km</td>\n",
              "      <td>Medium</td>\n",
              "      <td>NaN</td>\n",
              "      <td>glc</td>\n",
              "      <td>2494</td>\n",
              "      <td>Canada</td>\n",
              "      <td>Campbell River</td>\n",
              "      <td>178.23706</td>\n",
              "      <td>British Columbia</td>\n",
              "      <td>NaN</td>\n",
              "      <td>33430</td>\n",
              "      <td>NaN</td>\n",
              "      <td>NaN</td>\n",
              "      <td>CA</td>\n",
              "      <td>1</td>\n",
              "      <td>1</td>\n",
              "      <td>Tue Apr 01 2014 00:00:00 GMT+0000 (UTC)</td>\n",
              "      <td>1</td>\n",
              "      <td>50.7053</td>\n",
              "      <td>-127.5062</td>\n",
              "    </tr>\n",
              "    <tr>\n",
              "      <th>4</th>\n",
              "      <td>POINT (-132.41490000000013 53.331900000000125)</td>\n",
              "      <td>5</td>\n",
              "      <td>6415</td>\n",
              "      <td>08/31/2014 07:00:00 AM +0000</td>\n",
              "      <td>12/30/1899 08:00:00 AM +0000</td>\n",
              "      <td>NaN</td>\n",
              "      <td>Rennell Sound Road</td>\n",
              "      <td>landslide</td>\n",
              "      <td>Mudslide</td>\n",
              "      <td>Downpour</td>\n",
              "      <td>NaN</td>\n",
              "      <td>0</td>\n",
              "      <td>0</td>\n",
              "      <td>CFTK</td>\n",
              "      <td>http://www.cftktv.com/News/Story.aspx?ID=2164634</td>\n",
              "      <td>Known_within_15km</td>\n",
              "      <td>Small</td>\n",
              "      <td>http://www.cftktv.com/Pics/PhotoAlbums/Police%...</td>\n",
              "      <td>glc</td>\n",
              "      <td>6415</td>\n",
              "      <td>Canada</td>\n",
              "      <td>Prince Rupert</td>\n",
              "      <td>176.02202</td>\n",
              "      <td>British Columbia</td>\n",
              "      <td>obe</td>\n",
              "      <td>14708</td>\n",
              "      <td>NaN</td>\n",
              "      <td>NaN</td>\n",
              "      <td>CA</td>\n",
              "      <td>1</td>\n",
              "      <td>7</td>\n",
              "      <td>Thu Dec 04 2014 15:14:07 GMT+0000 (UTC)</td>\n",
              "      <td>1280292118</td>\n",
              "      <td>53.3319</td>\n",
              "      <td>-132.4149</td>\n",
              "    </tr>\n",
              "  </tbody>\n",
              "</table>\n",
              "</div>"
            ],
            "text/plain": [
              "                                         the_geom  ...  longitude\n",
              "0    POINT (-73.40200000000006 41.55850000000008)  ...   -73.4020\n",
              "1   POINT (113.91710000000012 0.1115000000000351)  ...   113.9171\n",
              "2   POINT (-127.69800000000009 52.35450000000008)  ...  -127.6980\n",
              "3   POINT (-127.50620000000009 50.70530000000013)  ...  -127.5062\n",
              "4  POINT (-132.41490000000013 53.331900000000125)  ...  -132.4149\n",
              "\n",
              "[5 rows x 35 columns]"
            ]
          },
          "metadata": {},
          "execution_count": 107
        }
      ]
    },
    {
      "cell_type": "markdown",
      "metadata": {
        "id": "SCGVbJX7Y4RM"
      },
      "source": [
        ""
      ]
    },
    {
      "cell_type": "markdown",
      "metadata": {
        "id": "MV9fFl0dFQ_w"
      },
      "source": [
        "## 2. Data Pre-Processing\n"
      ]
    },
    {
      "cell_type": "markdown",
      "metadata": {
        "id": "A3H4TFDz0p37"
      },
      "source": [
        "### 2.1 Cleaning up features"
      ]
    },
    {
      "cell_type": "code",
      "metadata": {
        "colab": {
          "base_uri": "https://localhost:8080/"
        },
        "id": "XtZ1FMC9oMh0",
        "outputId": "955f0226-7f9c-4922-e08b-43379c28007a"
      },
      "source": [
        "# Extract non-duplicate data\n",
        "data = data.loc[:, ('landslide_', 'trigger', 'fatalities', 'injuries',\n",
        "                    'landslide1', 'distance', 'population', 'key_', 'latitude',\n",
        "                    'longitude')]\n",
        "\n",
        "# Rename columns\n",
        "data.rename(columns={'landslide_': 'event', 'landslide1': 'size',\n",
        "                     'key_': 'countries'}, inplace=True)\n",
        "\n",
        "data.info()"
      ],
      "execution_count": 108,
      "outputs": [
        {
          "output_type": "stream",
          "name": "stdout",
          "text": [
            "<class 'pandas.core.frame.DataFrame'>\n",
            "RangeIndex: 6788 entries, 0 to 6787\n",
            "Data columns (total 10 columns):\n",
            " #   Column      Non-Null Count  Dtype  \n",
            "---  ------      --------------  -----  \n",
            " 0   event       6788 non-null   object \n",
            " 1   trigger     6788 non-null   object \n",
            " 2   fatalities  6788 non-null   int64  \n",
            " 3   injuries    6788 non-null   int64  \n",
            " 4   size        6786 non-null   object \n",
            " 5   distance    6788 non-null   float64\n",
            " 6   population  6788 non-null   int64  \n",
            " 7   countries   6786 non-null   object \n",
            " 8   latitude    6788 non-null   float64\n",
            " 9   longitude   6788 non-null   float64\n",
            "dtypes: float64(3), int64(3), object(4)\n",
            "memory usage: 530.4+ KB\n"
          ]
        }
      ]
    },
    {
      "cell_type": "markdown",
      "metadata": {
        "id": "5BHFezAybsxm"
      },
      "source": [
        "### 2.2 Investigating target data"
      ]
    },
    {
      "cell_type": "code",
      "metadata": {
        "colab": {
          "base_uri": "https://localhost:8080/",
          "height": 429
        },
        "id": "Mz_OvwxKb8qC",
        "outputId": "f38aabaa-4d41-46b5-97df-178bebced676"
      },
      "source": [
        "# Statistical summary\n",
        "print(data['fatalities'].describe())\n",
        "fig1 = plt.boxplot(data['fatalities'], vert=False)"
      ],
      "execution_count": 109,
      "outputs": [
        {
          "output_type": "stream",
          "name": "stdout",
          "text": [
            "count    6788.000000\n",
            "mean        3.739982\n",
            "std        70.827594\n",
            "min         0.000000\n",
            "25%         0.000000\n",
            "50%         0.000000\n",
            "75%         1.000000\n",
            "max      5000.000000\n",
            "Name: fatalities, dtype: float64\n"
          ]
        },
        {
          "output_type": "display_data",
          "data": {
            "image/png": "[encoded data removed]",
            "text/plain": [
              "<Figure size 432x288 with 1 Axes>"
            ]
          },
          "metadata": {
            "needs_background": "light"
          }
        }
      ]
    },
    {
      "cell_type": "code",
      "metadata": {
        "colab": {
          "base_uri": "https://localhost:8080/",
          "height": 429
        },
        "id": "XkR1ejMYbq8H",
        "outputId": "fb7909a6-e6f8-4119-dd54-63a6b5880609"
      },
      "source": [
        "# Remove 3 outliers\n",
        "data = data[data['fatalities'] < 1000]\n",
        "print(data['fatalities'].describe())\n",
        "fig1 = plt.boxplot(data['fatalities'], vert=False)"
      ],
      "execution_count": 110,
      "outputs": [
        {
          "output_type": "stream",
          "name": "stdout",
          "text": [
            "count    6785.000000\n",
            "mean        2.435077\n",
            "std        15.245638\n",
            "min         0.000000\n",
            "25%         0.000000\n",
            "50%         0.000000\n",
            "75%         1.000000\n",
            "max       491.000000\n",
            "Name: fatalities, dtype: float64\n"
          ]
        },
        {
          "output_type": "display_data",
          "data": {
            "image/png": "[encoded data removed]",
            "text/plain": [
              "<Figure size 432x288 with 1 Axes>"
            ]
          },
          "metadata": {
            "needs_background": "light"
          }
        }
      ]
    },
    {
      "cell_type": "markdown",
      "metadata": {
        "id": "curIR_dc051W"
      },
      "source": [
        "### 2.3 Encoding categorical data"
      ]
    },
    {
      "cell_type": "code",
      "metadata": {
        "colab": {
          "base_uri": "https://localhost:8080/"
        },
        "id": "6RPvyMj4xcCI",
        "outputId": "bb7df078-597a-4e2b-9bb0-b353cd0710a3"
      },
      "source": [
        "# Check current levels\n",
        "for col in data.loc[:, ('event', 'trigger', 'size', 'countries')]:\n",
        "    print('Levels for {}: {}\\n'.format(col, data[col].unique()))"
      ],
      "execution_count": 111,
      "outputs": [
        {
          "output_type": "stream",
          "name": "stdout",
          "text": [
            "Levels for event: ['Mudslide' 'Landslide' 'Complex' 'Other' 'Rock_Fall' 'Debris_Flow'\n",
            " 'Rockfall' 'Snow_Avalanche' 'Unknown' 'Translational_Slide' 'mudslide'\n",
            " 'Creep' 'Lahar' 'Riverbank_Collapse' 'landslide']\n",
            "\n",
            "Levels for trigger: ['Downpour' 'Rain' 'Snowfall_snowmelt' 'unknown' 'Unknown' 'Earthquake'\n",
            " 'No_Apparent_trigger' 'Freeze_thaw' 'Continuous_rain' 'Construction'\n",
            " 'Monsoon' 'Continuous_Rain' 'Tropical_Cyclone' 'Mining_digging'\n",
            " 'Dam_Embankment_Collapse' 'Other' 'mining_digging' 'Snowfall' 'monsoon'\n",
            " 'Flooding' 'No_Apparent_Trigger' 'other']\n",
            "\n",
            "Levels for size: ['Medium' 'Small' 'Large' 'Very_large' 'unknown' 'large' 'medium' 'small'\n",
            " nan]\n",
            "\n",
            "Levels for countries: ['US' 'ID' 'CA' 'PE' 'MM' 'NZ' 'FJ' 'IN' 'VU' 'MY' 'TJ' 'IS' 'CN' 'AU'\n",
            " 'PK' 'AR' 'NP' 'BR' 'UG' 'KG' 'NI' 'CO' 'BO' 'KE' 'EC' 'GB' 'BD' 'PG'\n",
            " 'AF' 'KP' 'ET' 'CL' 'NG' 'TW' 'HN' 'JP' 'LA' 'MG' 'VN' 'TT' 'GH' 'BN'\n",
            " 'MX' 'RW' 'LK' 'MW' 'TH' 'BT' 'PT' 'PH' 'SB' 'NO' 'ZA' 'RU' 'IR' 'IE'\n",
            " 'GT' 'AZ' 'CR' 'KR' 'BF' 'VE' 'GE' 'JO' 'CD' 'HT' 'TZ' 'AO' 'FR' 'PA'\n",
            " 'BG' 'SK' 'AT' 'TL' 'AL' 'CU' 'LB' 'TR' 'JM' 'SV' 'AE' 'CH' 'BA' 'YE' nan\n",
            " 'VC' 'SD' 'SG' 'AM' 'DE' 'VI' 'PR' 'DM' 'OM' 'CI' 'LC' 'HK' 'DO' 'GD'\n",
            " 'GR' 'CZ' 'IM' 'MK' 'ES' 'SI' 'GA' 'RS' 'IT' 'RO' 'SL' 'DZ' 'BB' 'LU'\n",
            " 'SZ' 'GN' 'IL' 'CM' 'CG' 'GU' 'BM' 'PY' 'HR' 'UA' 'ZM' 'PL']\n",
            "\n"
          ]
        }
      ]
    },
    {
      "cell_type": "code",
      "metadata": {
        "colab": {
          "base_uri": "https://localhost:8080/"
        },
        "id": "sM6KyFFS2fPt",
        "outputId": "4a30b57f-c6a1-4863-ba08-614df283631b"
      },
      "source": [
        "# Clean up levels\n",
        "data['event'].replace({'Rock_Fall': 'Rockfall', 'mudslide': 'Mudslide', \n",
        "                       'landslide': 'Landslide', 'Lahar': 'Debris_Flow', \n",
        "                       'Other': None, 'Unknown': None}, inplace=True)\n",
        "data['trigger'].replace({'unknown': None, 'Continuous_rain': 'Continuous_Rain',\n",
        "                         'Other': None, 'other': None,\n",
        "                         'No_Apparent_trigger': 'No_Apparent_Trigger',\n",
        "                         'monsoon': 'Monsoon', 'mining_digging': 'Mining', \n",
        "                         'Mining_digging': 'Mining', \n",
        "                         'Snowfall_snowmelt': 'Snowfall', 'Unknown': None}, \n",
        "                         inplace=True)\n",
        "data['size'].replace({'large': 'Large', 'medium': 'Medium', 'small': 'Small', \n",
        "                      'unknown': None, '': None}, inplace=True)\n",
        "\n",
        "# Check updated levels\n",
        "for col in data.loc[:, ('event', 'trigger', 'size')]:\n",
        "    print('Levels for {}: {}\\n'.format(col, data[col].unique()))"
      ],
      "execution_count": 112,
      "outputs": [
        {
          "output_type": "stream",
          "name": "stdout",
          "text": [
            "Levels for event: ['Mudslide' 'Landslide' 'Complex' None 'Rockfall' 'Debris_Flow'\n",
            " 'Snow_Avalanche' 'Translational_Slide' 'Creep' 'Riverbank_Collapse']\n",
            "\n",
            "Levels for trigger: ['Downpour' 'Rain' 'Snowfall' None 'Earthquake' 'No_Apparent_Trigger'\n",
            " 'Freeze_thaw' 'Continuous_Rain' 'Construction' 'Monsoon'\n",
            " 'Tropical_Cyclone' 'Mining' 'Dam_Embankment_Collapse' 'Flooding']\n",
            "\n",
            "Levels for size: ['Medium' 'Small' 'Large' 'Very_large' None nan]\n",
            "\n"
          ]
        }
      ]
    },
    {
      "cell_type": "code",
      "metadata": {
        "colab": {
          "base_uri": "https://localhost:8080/"
        },
        "id": "OhdElzDoaSCO",
        "outputId": "3e83fd9c-8c56-4ba6-99e9-869feef2f540"
      },
      "source": [
        "# Encoding \n",
        "\n",
        "# Size is ordinal\n",
        "data['size'].replace({'Small': 1, 'Medium': 2, 'Large': 3, 'Very_large': 4, \n",
        "                      'Extra Large': 5}, inplace=True)\n",
        "data['size'].replace({None: data['size'].mean(skipna=True)}, inplace=True)\n",
        "\n",
        "# Target encoding for the nominal features with more levels\n",
        "encoder = TargetEncoder()\n",
        "data.loc[:, ('event', 'trigger', 'countries')] = encoder.fit_transform(\n",
        "    data.loc[:, ('event', 'trigger', 'countries')], data['fatalities'])\n",
        "\n",
        "# All data should be floats or ints now\n",
        "data.info()"
      ],
      "execution_count": 113,
      "outputs": [
        {
          "output_type": "stream",
          "name": "stdout",
          "text": [
            "<class 'pandas.core.frame.DataFrame'>\n",
            "Int64Index: 6785 entries, 0 to 6787\n",
            "Data columns (total 10 columns):\n",
            " #   Column      Non-Null Count  Dtype  \n",
            "---  ------      --------------  -----  \n",
            " 0   event       6785 non-null   float64\n",
            " 1   trigger     6785 non-null   float64\n",
            " 2   fatalities  6785 non-null   int64  \n",
            " 3   injuries    6785 non-null   int64  \n",
            " 4   size        6785 non-null   float64\n",
            " 5   distance    6785 non-null   float64\n",
            " 6   population  6785 non-null   int64  \n",
            " 7   countries   6785 non-null   float64\n",
            " 8   latitude    6785 non-null   float64\n",
            " 9   longitude   6785 non-null   float64\n",
            "dtypes: float64(7), int64(3)\n",
            "memory usage: 903.1 KB\n"
          ]
        }
      ]
    },
    {
      "cell_type": "markdown",
      "metadata": {
        "id": "Is-59VXQ0FWx"
      },
      "source": [
        "## 3. Data splitting"
      ]
    },
    {
      "cell_type": "code",
      "metadata": {
        "id": "hSb1h5uy7Uu9"
      },
      "source": [
        "X = data.drop('fatalities', axis=1)\n",
        "y = data['fatalities']\n",
        "\n",
        "X_train, X_test, y_train, y_test = train_test_split(\n",
        "    X, y, train_size = 0.8, test_size=0.2, random_state=12)"
      ],
      "execution_count": 114,
      "outputs": []
    },
    {
      "cell_type": "markdown",
      "metadata": {
        "id": "YFNQe1Ys0Lif"
      },
      "source": [
        "## 4. Random Forest Regressor"
      ]
    },
    {
      "cell_type": "code",
      "metadata": {
        "colab": {
          "base_uri": "https://localhost:8080/",
          "height": 429
        },
        "id": "Izq_XBQg72Vt",
        "outputId": "9c678485-1be8-41a7-cc1c-5a14e2cc14e7"
      },
      "source": [
        "rfr = RandomForestRegressor()\n",
        "rfr.fit(X_train, y_train)\n",
        "y_pred = (rfr.predict(X_test))\n",
        "\n",
        "y_pred_train = rfr.predict(X_train)\n",
        "y_pred_test = rfr.predict(X_test)\n",
        "\n",
        "# Metrics\n",
        "train_mae = mean_absolute_error(y_train, y_pred_train)\n",
        "train_rmse = mean_squared_error(y_train, y_pred_train, squared=False)\n",
        "train_r2 = rfr.score(X_train, y_train)\n",
        "test_mae = mean_absolute_error(y_test, y_pred_test)\n",
        "test_rmse = mean_squared_error(y_test, y_pred_test, squared=False)\n",
        "test_r2 = r2_score(y_test, y_pred_test)\n",
        "\n",
        "print('Train MAE: ', train_mae)\n",
        "print('Train RMSE: ', train_rmse)\n",
        "print('Train R^2: ', train_r2, '\\n')\n",
        "print('Test MAE: ', test_mae)\n",
        "print('Test RMSE: ', test_rmse)\n",
        "print('Test R^2: ', test_r2, '\\n')\n",
        "\n",
        "# Feature importance\n",
        "feat_importances = pd.Series(rfr.feature_importances_, index=X.columns)\n",
        "feat_importances.nlargest(9).plot(kind='barh')"
      ],
      "execution_count": 115,
      "outputs": [
        {
          "output_type": "stream",
          "name": "stdout",
          "text": [
            "Train MAE:  1.2144805242657122\n",
            "Train RMSE:  6.031556960531663\n",
            "Train R^2:  0.8482800517850594 \n",
            "\n",
            "Test MAE:  2.6303486507351654\n",
            "Test RMSE:  11.681987501586848\n",
            "Test R^2:  0.3272306776534931 \n",
            "\n"
          ]
        },
        {
          "output_type": "execute_result",
          "data": {
            "text/plain": [
              "<matplotlib.axes._subplots.AxesSubplot at 0x7f2248085390>"
            ]
          },
          "metadata": {},
          "execution_count": 115
        },
        {
          "output_type": "display_data",
          "data": {
            "image/png": "[encoded data removed]",
            "text/plain": [
              "<Figure size 432x288 with 1 Axes>"
            ]
          },
          "metadata": {
            "needs_background": "light"
          }
        }
      ]
    },
    {
      "cell_type": "markdown",
      "metadata": {
        "id": "NdLkc1vP0hYx"
      },
      "source": [
        "## 5. Tuning"
      ]
    },
    {
      "cell_type": "code",
      "metadata": {
        "id": "P6Gjw9EEBvuL"
      },
      "source": [
        "# Drop injuries feature\n",
        "X = X.drop('injuries', axis=1)"
      ],
      "execution_count": 116,
      "outputs": []
    },
    {
      "cell_type": "code",
      "metadata": {
        "colab": {
          "base_uri": "https://localhost:8080/",
          "height": 776
        },
        "id": "QkA4QoffJCR5",
        "outputId": "def58cb2-6700-4930-b28f-39b98d1f18aa"
      },
      "source": [
        "# Find the best model parameters\n",
        "parameters = {\n",
        "    'n_estimators': [100, 200],\n",
        "    'min_samples_split': [4, 5, 6],\n",
        "    'min_samples_leaf': [4, 5, 6],\n",
        "    'max_depth': [5, 6, 7],\n",
        "    'max_features': ['auto', 'sqrt', 'log2']}\n",
        "search = GridSearchCV(rfr, parameters, scoring='r2', n_jobs=-1)\n",
        "search.fit(X_train,y_train)\n",
        "\n",
        "best_rfr = search.best_estimator_\n",
        "y_pred_train = best_rfr.predict(X_train)\n",
        "y_pred_test = best_rfr.predict(X_test)\n",
        "\n",
        "# Metrics\n",
        "train_mae = mean_absolute_error(y_train, y_pred_train)\n",
        "train_rmse = mean_squared_error(y_train, y_pred_train, squared=False)\n",
        "train_r2 = best_rfr.score(X_train, y_train)\n",
        "test_mae = mean_absolute_error(y_test, y_pred_test)\n",
        "test_rmse = mean_squared_error(y_test, y_pred_test, squared=False)\n",
        "test_r2 = r2_score(y_test, y_pred_test)\n",
        "\n",
        "print('Train MAE: ', train_mae)\n",
        "print('Train RMSE: ', train_rmse)\n",
        "print('Train R^2: ', train_r2, '\\n')\n",
        "print('Test MAE: ', test_mae)\n",
        "print('Test RMSE: ', test_rmse)\n",
        "print('Test R^2: ', test_r2, '\\n')\n",
        "print('Best parameters: ', best_rfr.get_params(), '\\n')\n",
        "\n",
        "# Plot the prediction\n",
        "plt.title('Landslide fatalities test and predicted data')\n",
        "plt.xlabel('Sample')\n",
        "plt.ylabel('Fatalities')\n",
        "x_ax = range(len(y_test))\n",
        "plt.plot(x_ax, y_test, label='original')\n",
        "plt.plot(x_ax, y_pred, label='predicted')\n",
        "plt.grid(True)\n",
        "plt.legend()\n",
        "plt.show()\n",
        "\n",
        "# Plot the REC curve\n",
        "def rec(m, n, tol):\n",
        "    if type(m) != 'numpy.ndarray':\n",
        "        m = np.array(m)\n",
        "    if type(n) != 'numpy.ndarray':\n",
        "        n = np.array(n)\n",
        "    l = m.size\n",
        "    percent = 0\n",
        "    for i in range(l):\n",
        "        if np.abs(10 ** m[i] - 10 ** n[i]) <= tol:\n",
        "            percent += 1\n",
        "    return 100 * (percent / l)\n",
        "\n",
        "rec_rfr=[]\n",
        "tol_max = 30\n",
        "for i in range(tol_max):\n",
        "    rec_rfr.append(rec(y_pred_test, y_test, i))\n",
        "\n",
        "plt.title('REC curve')\n",
        "plt.xlabel('Absolute error (tolerance) in prediction')\n",
        "plt.ylabel('Percentage of correct prediction')\n",
        "plt.xticks([i * 5 for i in range(tol_max + 1)])\n",
        "plt.ylim(-10, 100)\n",
        "plt.yticks([i * 20 for i in range(6)])\n",
        "plt.grid(True)\n",
        "plt.plot(range(tol_max), rec_rfr)\n",
        "plt.show()"
      ],
      "execution_count": 117,
      "outputs": [
        {
          "output_type": "stream",
          "name": "stdout",
          "text": [
            "Train MAE:  2.717045979097677\n",
            "Train RMSE:  12.19612620074886\n",
            "Train R^2:  0.3796630678151669 \n",
            "\n",
            "Test MAE:  2.5079346498438597\n",
            "Test RMSE:  11.17122867958487\n",
            "Test R^2:  0.3847741294435837 \n",
            "\n",
            "Best parameters:  {'bootstrap': True, 'ccp_alpha': 0.0, 'criterion': 'squared_error', 'max_depth': 7, 'max_features': 'sqrt', 'max_leaf_nodes': None, 'max_samples': None, 'min_impurity_decrease': 0.0, 'min_samples_leaf': 5, 'min_samples_split': 5, 'min_weight_fraction_leaf': 0.0, 'n_estimators': 100, 'n_jobs': None, 'oob_score': False, 'random_state': None, 'verbose': 0, 'warm_start': False} \n",
            "\n"
          ]
        },
        {
          "output_type": "display_data",
          "data": {
            "image/png": "[encoded data removed]",
            "text/plain": [
              "<Figure size 432x288 with 1 Axes>"
            ]
          },
          "metadata": {
            "needs_background": "light"
          }
        },
        {
          "output_type": "display_data",
          "data": {
            "image/png": "[encoded data removed]",
            "text/plain": [
              "<Figure size 432x288 with 1 Axes>"
            ]
          },
          "metadata": {
            "needs_background": "light"
          }
        }
      ]
    }
  ]
}